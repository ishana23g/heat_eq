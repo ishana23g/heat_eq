{
 "cells": [
  {
   "cell_type": "code",
   "execution_count": 2,
   "metadata": {},
   "outputs": [],
   "source": [
    "import numpy as np \n",
    "from matplotlib.colors import LinearSegmentedColormap"
   ]
  },
  {
   "cell_type": "code",
   "execution_count": 5,
   "metadata": {},
   "outputs": [
    {
     "data": {
      "image/png": "[encoded data removed]",
      "text/html": [
       "<div style=\"vertical-align: middle;\"><strong>custom_colormap</strong> </div><div class=\"cmap\"><img alt=\"custom_colormap colormap\" title=\"custom_colormap\" style=\"border: 1px solid #555;\" src=\"data:image/png;base64,iVBORw0KGgoAAAANSUhEUgAAAgAAAABACAYAAABsv8+/AAAAHnRFWHRUaXRsZQBjdXN0b21fY29sb3JtYXAgY29sb3JtYXB5JmvcAAAAJHRFWHREZXNjcmlwdGlvbgBjdXN0b21fY29sb3JtYXAgY29sb3JtYXCzmoKzAAAAMHRFWHRBdXRob3IATWF0cGxvdGxpYiB2My44LjMsIGh0dHBzOi8vbWF0cGxvdGxpYi5vcmeqnk4cAAAAMnRFWHRTb2Z0d2FyZQBNYXRwbG90bGliIHYzLjguMywgaHR0cHM6Ly9tYXRwbG90bGliLm9yZ4Q40TsAAAEqSURBVHic7dZBAcAgAMSwY/49g481+dRCz3bvdrdt56iqqur/u30DAHIMAAAEGQAACDIAABBkAAAgyAAAQJABAIAgAwAAQQYAAIIMAAAEGQAACDIAABBkAAAgyAAAQJABAIAgAwAAQQYAAIIMAAAEGQAACDIAABBkAAAgyAAAQJABAIAgAwAAQQYAAIIMAAAEGQAACDIAABBkAAAgyAAAQJABAIAgAwAAQQYAAIIMAAAEGQAACDIAABBkAAAgyAAAQJABAIAgAwAAQQYAAIIMAAAEGQAACDIAABBkAAAgyAAAQJABAIAgAwAAQQYAAIIMAAAEGQAACDIAABBkAAAgyAAAQJABAIAgAwAAQQYAAIIMAAAEGQAACDIAABBkAAAgyAAAQJABAICgB4xoAozm9XJ+AAAAAElFTkSuQmCC\"></div><div style=\"vertical-align: middle; max-width: 514px; display: flex; justify-content: space-between;\"><div style=\"float: left;\"><div title=\"#0000ffff\" style=\"display: inline-block; width: 1em; height: 1em; margin: 0; vertical-align: middle; border: 1px solid #555; background-color: #0000ffff;\"></div> under</div><div style=\"margin: 0 auto; display: inline-block;\">bad <div title=\"#00000000\" style=\"display: inline-block; width: 1em; height: 1em; margin: 0; vertical-align: middle; border: 1px solid #555; background-color: #00000000;\"></div></div><div style=\"float: right;\">over <div title=\"#ffff00ff\" style=\"display: inline-block; width: 1em; height: 1em; margin: 0; vertical-align: middle; border: 1px solid #555; background-color: #ffff00ff;\"></div></div>"
      ],
      "text/plain": [
       "<matplotlib.colors.LinearSegmentedColormap at 0x71e8dc2eed90>"
      ]
     },
     "execution_count": 5,
     "metadata": {},
     "output_type": "execute_result"
    }
   ],
   "source": [
    "n = 1024\n",
    "\n",
    "t = np.linspace(0, 1, n)\n",
    "\n",
    "R = (t)\n",
    "G = (t)\n",
    "B = (1 - t)\n",
    "\n",
    "# Create a custom colormap\n",
    "colors = [(r, g, b) for r, g, b in zip(R, G, B)]\n",
    "colormap = LinearSegmentedColormap.from_list('custom_colormap', colors, N=n)\n",
    "colormap"
   ]
  },
  {
   "cell_type": "code",
   "execution_count": 6,
   "metadata": {},
   "outputs": [
    {
     "data": {
      "image/png": "[encoded data removed]",
      "text/html": [
       "<div style=\"vertical-align: middle;\"><strong>custom_colormap</strong> </div><div class=\"cmap\"><img alt=\"custom_colormap colormap\" title=\"custom_colormap\" style=\"border: 1px solid #555;\" src=\"data:image/png;base64,iVBORw0KGgoAAAANSUhEUgAAAgAAAABACAYAAABsv8+/AAAAHnRFWHRUaXRsZQBjdXN0b21fY29sb3JtYXAgY29sb3JtYXB5JmvcAAAAJHRFWHREZXNjcmlwdGlvbgBjdXN0b21fY29sb3JtYXAgY29sb3JtYXCzmoKzAAAAMHRFWHRBdXRob3IATWF0cGxvdGxpYiB2My44LjMsIGh0dHBzOi8vbWF0cGxvdGxpYi5vcmeqnk4cAAAAMnRFWHRTb2Z0d2FyZQBNYXRwbG90bGliIHYzLjguMywgaHR0cHM6Ly9tYXRwbG90bGliLm9yZ4Q40TsAAAF/SURBVHic7dY5bsNAEADBof//Zq4jAwJBmaSPqKuSwR7YgFLQ28xaM2tmZra7c7u5/7reHuyfnT+Zx3de59X9v9z/r3ev9p98jzvz7N0nv/fV/+Y3cz1Yrzfz69678/Xyzvpmfbz/k7nf2N8P5/vJ/n5zHr+XaZqROfMxAECOAACAIAEAAEECAACCBAAABAkAAAgSAAAQJAAAIEgAAECQAACAIAEAAEECAACCBAAABAkAAAgSAAAQJAAAIEgAAECQAACAIAEAAEECAACCBAAABAkAAAgSAAAQJAAAIEgAAECQAACAIAEAAEECAACCBAAABAkAAAgSAAAQJAAAIEgAAECQAACAIAEAAEECAACCBAAABAkAAAgSAAAQJAAAIEgAAECQAACAIAEAAEECAACCBAAABAkAAAgSAAAQJAAAIEgAAECQAACAIAEAAEECAACCBAAABAkAAAgSAAAQJAAAIEgAAECQAACAIAEAAEECAACCBAAABAkAAAgSAAAQ9AmhoUCNKQ+3FAAAAABJRU5ErkJggg==\"></div><div style=\"vertical-align: middle; max-width: 514px; display: flex; justify-content: space-between;\"><div style=\"float: left;\"><div title=\"#0000ffff\" style=\"display: inline-block; width: 1em; height: 1em; margin: 0; vertical-align: middle; border: 1px solid #555; background-color: #0000ffff;\"></div> under</div><div style=\"margin: 0 auto; display: inline-block;\">bad <div title=\"#00000000\" style=\"display: inline-block; width: 1em; height: 1em; margin: 0; vertical-align: middle; border: 1px solid #555; background-color: #00000000;\"></div></div><div style=\"float: right;\">over <div title=\"#ff0000ff\" style=\"display: inline-block; width: 1em; height: 1em; margin: 0; vertical-align: middle; border: 1px solid #555; background-color: #ff0000ff;\"></div></div>"
      ],
      "text/plain": [
       "<matplotlib.colors.LinearSegmentedColormap at 0x71e8ddf16350>"
      ]
     },
     "execution_count": 6,
     "metadata": {},
     "output_type": "execute_result"
    }
   ],
   "source": [
    "R = (t)\n",
    "G = (t * np.sin(2 * np.pi * t))\n",
    "B = (1 - t)\n",
    "\n",
    "# Create a custom colormap\n",
    "colors = [(r, g, b) for r, g, b in zip(R, G, B)]\n",
    "colormap = LinearSegmentedColormap.from_list('custom_colormap', colors, N=n)\n",
    "colormap"
   ]
  },
  {
   "cell_type": "code",
   "execution_count": null,
   "metadata": {},
   "outputs": [
    {
     "data": {
      "image/png": "[encoded data removed]",
      "text/html": [
       "<div style=\"vertical-align: middle;\"><strong>my_cmap</strong> </div><div class=\"cmap\"><img alt=\"my_cmap colormap\" title=\"my_cmap\" style=\"border: 1px solid #555;\" src=\"data:image/png;base64,iVBORw0KGgoAAAANSUhEUgAAAgAAAABACAYAAABsv8+/AAAAFnRFWHRUaXRsZQBteV9jbWFwIGNvbG9ybWFw2E+iFQAAABx0RVh0RGVzY3JpcHRpb24AbXlfY21hcCBjb2xvcm1hcH9hE2wAAAAwdEVYdEF1dGhvcgBNYXRwbG90bGliIHYzLjguMywgaHR0cHM6Ly9tYXRwbG90bGliLm9yZ6qeThwAAAAydEVYdFNvZnR3YXJlAE1hdHBsb3RsaWIgdjMuOC4zLCBodHRwczovL21hdHBsb3RsaWIub3JnhDjROwAAAchJREFUeJzt1jFOxDAUQEHDMbl/wR0oQkGDEozjQPdmmtVKceLv3Ujv5f3j7RhjjOM4xtfnuPc5fr5+PFw3v8/x/ev2/pb7ufmc+X329jeeznNat57rdM6357q37nz9uH3978/5r7ku5/3H/Y3lusn/+rRued7LfU7+1w/3N59r8Z5O53o2z/R8Hu7vOtdinulce+ewPO/pur39Lc/75nOm79vm/q5z3ZznMtfu77Q4581187mezTN9X6frbp7z5rrZfV4HAJAjAAAgSAAAQJAAAIAgAQAAQQIAAIIEAAAECQAACBIAABAkAAAgSAAAQJAAAIAgAQAAQQIAAIIEAAAECQAACBIAABAkAAAgSAAAQJAAAIAgAQAAQQIAAIIEAAAECQAACBIAABAkAAAgSAAAQJAAAIAgAQAAQQIAAIIEAAAECQAACBIAABAkAAAgSAAAQJAAAIAgAQAAQQIAAIIEAAAECQAACBIAABAkAAAgSAAAQJAAAIAgAQAAQQIAAIIEAAAECQAACBIAABAkAAAgSAAAQJAAAIAgAQAAQQIAAIIEAAAECQAACBIAABAkAAAgSAAAQJAAAIAgAQAAQQIAAIIEAAAEfQJHHOXnQ9t4pAAAAABJRU5ErkJggg==\"></div><div style=\"vertical-align: middle; max-width: 514px; display: flex; justify-content: space-between;\"><div style=\"float: left;\"><div title=\"#e8fb5aff\" style=\"display: inline-block; width: 1em; height: 1em; margin: 0; vertical-align: middle; border: 1px solid #555; background-color: #e8fb5aff;\"></div> under</div><div style=\"margin: 0 auto; display: inline-block;\">bad <div title=\"#00000000\" style=\"display: inline-block; width: 1em; height: 1em; margin: 0; vertical-align: middle; border: 1px solid #555; background-color: #00000000;\"></div></div><div style=\"float: right;\">over <div title=\"#052233ff\" style=\"display: inline-block; width: 1em; height: 1em; margin: 0; vertical-align: middle; border: 1px solid #555; background-color: #052233ff;\"></div></div>"
      ],
      "text/plain": [
       "<matplotlib.colors.LinearSegmentedColormap at 0x71e8e8b20e50>"
      ]
     },
     "execution_count": 8,
     "metadata": {},
     "output_type": "execute_result"
    }
   ],
   "source": [
    "# liner interpolation between rgb(232, 251, 90) and rgb(5, 34, 51)\n",
    "colors = np.zeros((n, 3))\n",
    "\n",
    "R_low, R_high = 232/255, 5/255\n",
    "G_low, G_high = 251/255, 34/255\n",
    "B_low, B_high = 90/255, 51/255\n",
    "\n",
    "R = t * (R_high - R_low) + R_low\n",
    "G = t * (G_high - G_low) + G_low\n",
    "B = t * (B_high - B_low) + B_low\n",
    "colors[:, 0] = R\n",
    "colors[:, 1] = G\n",
    "colors[:, 2] = B\n",
    "\n",
    "cmap = LinearSegmentedColormap.from_list('my_cmap', colors)\n",
    "cmap"
   ]
  },
  {
   "cell_type": "code",
   "execution_count": null,
   "metadata": {},
   "outputs": [
    {
     "data": {
      "image/png": "[encoded data removed]",
      "text/html": [
       "<div style=\"vertical-align: middle;\"><strong>custom_colormap</strong> </div><div class=\"cmap\"><img alt=\"custom_colormap colormap\" title=\"custom_colormap\" style=\"border: 1px solid #555;\" src=\"data:image/png;base64,iVBORw0KGgoAAAANSUhEUgAAAgAAAABACAYAAABsv8+/AAAAHnRFWHRUaXRsZQBjdXN0b21fY29sb3JtYXAgY29sb3JtYXB5JmvcAAAAJHRFWHREZXNjcmlwdGlvbgBjdXN0b21fY29sb3JtYXAgY29sb3JtYXCzmoKzAAAAMHRFWHRBdXRob3IATWF0cGxvdGxpYiB2My44LjMsIGh0dHBzOi8vbWF0cGxvdGxpYi5vcmeqnk4cAAAAMnRFWHRTb2Z0d2FyZQBNYXRwbG90bGliIHYzLjguMywgaHR0cHM6Ly9tYXRwbG90bGliLm9yZ4Q40TsAAAIhSURBVHic7dZNUttAFIXRJ/a/p2ws8BjEtlotWVZIYHLPoajC7f6T8eBbfr//6uqu/W/tx+rJ+Dy/XuxzH6+L53ZXVdVy5Z514dzdHf/TPXefTw2v79scj1f1Y4vLa3pYU/s5vZs/rZnOP15zvtfmvXq15tkzrevP14xXXdYjezkfvzJnGP/zehmu9Wz8J844GD+Z0708PseuZfhKPh+f/gW7j77meevX5Xjt2dxxz2nut+w5vH/8jH9//us9h3tW3/7u4Z7D2GP++s66T0/z1312Y7f5NY/dd+jt2Poc013u5/XB2Gb+dOc+GJvO3dz55NnWd+Znm56g5yfq27yPi/P68fPVtdt5HxfnTWd/ce0/37m63goAiCMAACCQAACAQAIAAAIJAAAIJAAAIJAAAIBAAgAAAgkAAAgkAAAgkAAAgEACAAACCQAACCQAACCQAACAQAIAAAIJAAAIJAAAIJAAAIBAAgAAAgkAAAgkAAAgkAAAgEACAAACCQAACCQAACCQAACAQAIAAAIJAAAIJAAAIJAAAIBAAgAAAgkAAAgkAAAgkAAAgEACAAACCQAACCQAACCQAACAQAIAAAIJAAAIJAAAIJAAAIBAAgAAAgkAAAgkAAAgkAAAgEACAAACCQAACCQAACCQAACAQAIAAAIJAAAIJAAAIJAAAIBAAgAAAgkAAAgkAAAgkAAAgEACAAACCQAACCQAACCQAACAQJ9f3tShpy/ysgAAAABJRU5ErkJggg==\"></div><div style=\"vertical-align: middle; max-width: 514px; display: flex; justify-content: space-between;\"><div style=\"float: left;\"><div title=\"#fcfdbfff\" style=\"display: inline-block; width: 1em; height: 1em; margin: 0; vertical-align: middle; border: 1px solid #555; background-color: #fcfdbfff;\"></div> under</div><div style=\"margin: 0 auto; display: inline-block;\">bad <div title=\"#00000000\" style=\"display: inline-block; width: 1em; height: 1em; margin: 0; vertical-align: middle; border: 1px solid #555; background-color: #00000000;\"></div></div><div style=\"float: right;\">over <div title=\"#000004ff\" style=\"display: inline-block; width: 1em; height: 1em; margin: 0; vertical-align: middle; border: 1px solid #555; background-color: #000004ff;\"></div></div>"
      ],
      "text/plain": [
       "<matplotlib.colors.LinearSegmentedColormap at 0x702bdc1dab10>"
      ]
     },
     "execution_count": 42,
     "metadata": {},
     "output_type": "execute_result"
    }
   ],
   "source": [
    "# Define the magma colormap points\n",
    "\n",
    "magma_colormap = [\n",
    "    [252, 253, 191],\n",
    "    [254, 176, 120],\n",
    "    [241, 96, 93],\n",
    "    [183, 55, 121],\n",
    "    [114, 31, 129],\n",
    "    [44, 17, 95],\n",
    "    [0, 0, 4]\n",
    "]\n",
    "\n",
    "# Interpolate the colormap\n",
    "magma_colormap = np.array(magma_colormap) / 255.0\n",
    "R = np.interp(t, np.linspace(0, 1, len(magma_colormap)), magma_colormap[:, 0])\n",
    "G = np.interp(t, np.linspace(0, 1, len(magma_colormap)), magma_colormap[:, 1])\n",
    "B = np.interp(t, np.linspace(0, 1, len(magma_colormap)), magma_colormap[:, 2])\n",
    "\n",
    "# Create a custom colormap\n",
    "colors = [(r, g, b) for r, g, b in zip(R, G, B)]\n",
    "colormap = LinearSegmentedColormap.from_list('custom_colormap', colors, N=n)\n",
    "colormap"
   ]
  },
  {
   "cell_type": "code",
   "execution_count": 45,
   "metadata": {},
   "outputs": [
    {
     "data": {
      "image/png": "[encoded data removed]",
      "text/html": [
       "<div style=\"vertical-align: middle;\"><strong>custom_colormap</strong> </div><div class=\"cmap\"><img alt=\"custom_colormap colormap\" title=\"custom_colormap\" style=\"border: 1px solid #555;\" src=\"data:image/png;base64,iVBORw0KGgoAAAANSUhEUgAAAgAAAABACAYAAABsv8+/AAAAHnRFWHRUaXRsZQBjdXN0b21fY29sb3JtYXAgY29sb3JtYXB5JmvcAAAAJHRFWHREZXNjcmlwdGlvbgBjdXN0b21fY29sb3JtYXAgY29sb3JtYXCzmoKzAAAAMHRFWHRBdXRob3IATWF0cGxvdGxpYiB2My44LjMsIGh0dHBzOi8vbWF0cGxvdGxpYi5vcmeqnk4cAAAAMnRFWHRTb2Z0d2FyZQBNYXRwbG90bGliIHYzLjguMywgaHR0cHM6Ly9tYXRwbG90bGliLm9yZ4Q40TsAAAIfSURBVHic7dZNTuNAFIXR597/nnpj3TwGJHG57DhGEUzuORISKdefA4Nv+ff/b1d37X9qP1ZPxuf59WKf+3hdPLe7qqqWK/esC+f+1D13308Nn+/bHI9X9WOLy2t6WFP7Ob2bP62Zzj9ec77X5lm9WvPsndb152vGqy7rkb2cj1+ZM4x/fV6Gaz0b/40zDsZP5nQvj++xaxn+JZ+PT3+C3Vdf87z13+V47dnccc9p7o/sOTw/fsfvn/96z+Ge1bffe7jnMPaYvz5Z9+lp/rrPbuw2v+ax+w69HVvfY7rL/bw+GNvMn+7cB2PTuZs7n7zb+mR+t+kNen6jvs37uDhvO/7O2q95HxfnDWe+sfbd963q+lMAQBwBAACBBAAABBIAABBIAABAIAEAAIEEAAAEEgAAEEgAAEAgAQAAgQQAAAQSAAAQSAAAQCABAACBBAAABBIAABBIAABAIAEAAIEEAAAEEgAAEEgAAEAgAQAAgQQAAAQSAAAQSAAAQCABAACBBAAABBIAABBIAABAIAEAAIEEAAAEEgAAEEgAAEAgAQAAgQQAAAQSAAAQSAAAQCABAACBBAAABBIAABBIAABAIAEAAIEEAAAEEgAAEEgAAEAgAQAAgQQAAAQSAAAQSAAAQCABAACBBAAABBIAABBIAABAIAEAAIEEAAAEEgAAEEgAAEAgAQAAgQQAAAQSAAAQSAAAQCABAACBBAAABPoEX97UofjsoUQAAAAASUVORK5CYII=\"></div><div style=\"vertical-align: middle; max-width: 514px; display: flex; justify-content: space-between;\"><div style=\"float: left;\"><div title=\"#fcfdbfff\" style=\"display: inline-block; width: 1em; height: 1em; margin: 0; vertical-align: middle; border: 1px solid #555; background-color: #fcfdbfff;\"></div> under</div><div style=\"margin: 0 auto; display: inline-block;\">bad <div title=\"#00000000\" style=\"display: inline-block; width: 1em; height: 1em; margin: 0; vertical-align: middle; border: 1px solid #555; background-color: #00000000;\"></div></div><div style=\"float: right;\">over <div title=\"#000004ff\" style=\"display: inline-block; width: 1em; height: 1em; margin: 0; vertical-align: middle; border: 1px solid #555; background-color: #000004ff;\"></div></div>"
      ],
      "text/plain": [
       "<matplotlib.colors.LinearSegmentedColormap at 0x702bd76feed0>"
      ]
     },
     "execution_count": 45,
     "metadata": {},
     "output_type": "execute_result"
    }
   ],
   "source": [
    "def get_magma_color(t, magma_colormap):\n",
    "    if t <= 0.0:\n",
    "        return magma_colormap[0]\n",
    "    elif t >= 1.0:\n",
    "        return magma_colormap[-1]\n",
    "    else:\n",
    "        scaled_t = t * (len(magma_colormap) - 1)\n",
    "        idx1 = int(scaled_t)\n",
    "        idx2 = min(idx1 + 1, len(magma_colormap) - 1)\n",
    "        frac = scaled_t - idx1\n",
    "\n",
    "        r1, g1, b1 = magma_colormap[idx1]\n",
    "        r2, g2, b2 = magma_colormap[idx2]\n",
    "\n",
    "        r = (1.0 - frac) * r1 + frac * r2\n",
    "        g = (1.0 - frac) * g1 + frac * g2\n",
    "        b = (1.0 - frac) * b1 + frac * b2\n",
    "\n",
    "        return r, g, b\n",
    "\n",
    "# Example usage\n",
    "colors = [get_magma_color(_t, magma_colormap) for _t in t]\n",
    "\n",
    "colormap = LinearSegmentedColormap.from_list('custom_colormap', colors, N=n)\n",
    "colormap\n"
   ]
  },
  {
   "cell_type": "code",
   "execution_count": 40,
   "metadata": {},
   "outputs": [],
   "source": [
    "R = [0.5 + 0.5 * (t / 0.5) if t < 0.5 else 1.0 for t in t]\n",
    "G = [0.5 * (t / 0.5) if t < 0.5 else 0.5 + 0.5 * ((t - 0.5) / 0.5) for t in t]\n",
    "B = [0.5 + 0.0 * (t / 0.5) if t < 0.5 else 0.0 for t in t]"
   ]
  },
  {
   "cell_type": "code",
   "execution_count": 37,
   "metadata": {},
   "outputs": [
    {
     "data": {
      "image/png": "[encoded data removed]",
      "text/html": [
       "<div style=\"vertical-align: middle;\"><strong>custom_colormap</strong> </div><div class=\"cmap\"><img alt=\"custom_colormap colormap\" title=\"custom_colormap\" style=\"border: 1px solid #555;\" src=\"data:image/png;base64,iVBORw0KGgoAAAANSUhEUgAAAgAAAABACAYAAABsv8+/AAAAHnRFWHRUaXRsZQBjdXN0b21fY29sb3JtYXAgY29sb3JtYXB5JmvcAAAAJHRFWHREZXNjcmlwdGlvbgBjdXN0b21fY29sb3JtYXAgY29sb3JtYXCzmoKzAAAAMHRFWHRBdXRob3IATWF0cGxvdGxpYiB2My44LjMsIGh0dHBzOi8vbWF0cGxvdGxpYi5vcmeqnk4cAAAAMnRFWHRTb2Z0d2FyZQBNYXRwbG90bGliIHYzLjguMywgaHR0cHM6Ly9tYXRwbG90bGliLm9yZ4Q40TsAAAExSURBVHic7dbBEYBADAMxQ+MMlcPnuljpEU862OvZ823bdY61trTveWatje09ACBHAABAkAAAgCABAABBAgAAggQAAAQJAAAIEgAAECQAACBIAABAkAAAgCABAABBAgAAggQAAAQJAAAIEgAAECQAACBIAABAkAAAgCABAABBAgAAggQAAAQJAAAIEgAAECQAACBIAABAkAAAgCABAABBAgAAggQAAAQJAAAIEgAAECQAACBIAABAkAAAgCABAABBAgAAggQAAAQJAAAIEgAAECQAACBIAABAkAAAgCABAABBAgAAggQAAAQJAAAIEgAAECQAACBIAABAkAAAgCABAABBAgAAggQAAAQJAAAIEgAAECQAACBIAABAkAAAgCABAABBAgAAggQAAAQJAAAI+gF+dQR9X1+utQAAAABJRU5ErkJggg==\"></div><div style=\"vertical-align: middle; max-width: 514px; display: flex; justify-content: space-between;\"><div style=\"float: left;\"><div title=\"#800080ff\" style=\"display: inline-block; width: 1em; height: 1em; margin: 0; vertical-align: middle; border: 1px solid #555; background-color: #800080ff;\"></div> under</div><div style=\"margin: 0 auto; display: inline-block;\">bad <div title=\"#00000000\" style=\"display: inline-block; width: 1em; height: 1em; margin: 0; vertical-align: middle; border: 1px solid #555; background-color: #00000000;\"></div></div><div style=\"float: right;\">over <div title=\"#ffff00ff\" style=\"display: inline-block; width: 1em; height: 1em; margin: 0; vertical-align: middle; border: 1px solid #555; background-color: #ffff00ff;\"></div></div>"
      ],
      "text/plain": [
       "<matplotlib.colors.LinearSegmentedColormap at 0x702bdc1b3610>"
      ]
     },
     "execution_count": 37,
     "metadata": {},
     "output_type": "execute_result"
    }
   ],
   "source": [
    "# Create a custom colormap\n",
    "colors = [(r, g, b) for r, g, b in zip(R, G, B)]\n",
    "colormap = LinearSegmentedColormap.from_list('custom_colormap', colors, N=n)\n",
    "colormap"
   ]
  },
  {
   "cell_type": "code",
   "execution_count": null,
   "metadata": {},
   "outputs": [],
   "source": []
  }
 ],
 "metadata": {
  "kernelspec": {
   "display_name": "py311",
   "language": "python",
   "name": "python3"
  },
  "language_info": {
   "codemirror_mode": {
    "name": "ipython",
    "version": 3
   },
   "file_extension": ".py",
   "mimetype": "text/x-python",
   "name": "python",
   "nbconvert_exporter": "python",
   "pygments_lexer": "ipython3",
   "version": "3.11.0"
  }
 },
 "nbformat": 4,
 "nbformat_minor": 2
}
